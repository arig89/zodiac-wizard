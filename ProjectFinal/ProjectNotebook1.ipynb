{
 "cells": [
  {
   "cell_type": "markdown",
   "metadata": {},
   "source": [
    "# Zodiac Wizard Description"
   ]
  },
  {
   "cell_type": "markdown",
   "metadata": {},
   "source": [
    "Welcome to the Zodiac Wizard! \n",
    "\n",
    "\t•\tThis interactive project takes user input and will return information about zodiac signs.\n",
    "\t•\tIt was created because I wanted a simple project to show my friends how cool coding in Python can be! \n",
    "    •\tMostly, it's just for fun, since astrology doesn't really have \"practical\" applications :)\n",
    "   \n",
    "    The wizard can do the following:\n",
    "    \n",
    "\t⁃\tTells you what sign you are based on your birthday.\n",
    "\t⁃\tGives you a monthly horoscope based on your sign (optional).\n",
    "\t⁃\tCan test a friend's birthday with the wizard (if you don't care about your own horoscope).\n",
    "\t⁃\tCan test astrological compatibility between you and a friend (if you don't care about horoscopes at all).\n",
    "\t⁃\tCan be easily quit if you don't want to know anything other than your sign.\n",
    "\n",
    "- Note: The project should be run in Jupyter Notebooks as it is interactive \n",
    "\n",
    "\n",
    "- Citations/ Resources used for this project:\n",
    "    - <https://cogs18.github.io/intro/>\n",
    "    - <https://daringfireball.net/projects/markdown/>\n",
    "    - <https://docs.python.org/2/tutorial/modules.html#the-module-search-path>\n",
    "    \n",
    "\n",
    "- This project is available on GitHub: https://github.com/arig89/zodiac-wizard"
   ]
  },
  {
   "cell_type": "markdown",
   "metadata": {},
   "source": [
    "## Project Code:"
   ]
  },
  {
   "cell_type": "code",
   "execution_count": 5,
   "metadata": {},
   "outputs": [],
   "source": [
    "from my_module.functions import zodiac_function, zodiac_horoscope, zodiac_compatibility"
   ]
  },
  {
   "cell_type": "code",
   "execution_count": 7,
   "metadata": {},
   "outputs": [
    {
     "name": "stdout",
     "output_type": "stream",
     "text": [
      "What is the number of your birth month? 8\n",
      "What is your birth day? 2\n",
      "Your sign is  Leo\n",
      "Would you like to hear your monthly horoscope? yes/no yes\n",
      "This month you will try something you've never done before.\n"
     ]
    }
   ],
   "source": [
    "#Asks users to input their birth month and birth day.\n",
    "user_month = int(input(\"What is the number of your birth month? \"))\n",
    "user_day = int(input(\"What is your birth day? \"))\n",
    "\n",
    "#Uses zodiac function to return the user's zodiac sign.\n",
    "user_sign = zodiac_function(user_month,user_day) \n",
    "print(\"Your sign is \", user_sign)\n",
    "\n",
    "#Asks user if they want to know their horoscope for their sign.\n",
    "input1 = input(\"Would you like to hear your monthly horoscope? yes/no \")\n",
    "if input1 == \"yes\"or input1== \"Yes\":\n",
    "    user_horoscope = zodiac_horoscope(user_sign)\n",
    "    #If yes, uses horoscope function to return user's horoscope.\n",
    "    print (\"This month\", user_horoscope)\n",
    "else:\n",
    "    #If no, asks if they would like to try a friend's sign instead.\n",
    "    input2 = (input(\"Would you like to try the zodiac wizard with a friend? \"))\n",
    "    if input2 == \"yes\" or input2 == \"Yes\":\n",
    "        friend_month = int(input(\"Enter the birth month number of your friend: \"))\n",
    "        friend_day = int(input(\"Enter the birth day of your friend: \"))\n",
    "        friend_sign = zodiac_function(friend_month, friend_day)\n",
    "        #If yes, asks them to enter friend's birthday and returns friend's sign.\n",
    "        print (\"Your friend's sign is \", friend_sign)\n",
    "        #Asks user if they want to know their horoscope for their friend's sign.\n",
    "        \n",
    "        input3 = (input(\"Would you like to hear your friend's monthly horoscope? \"))\n",
    "        if input3 == \"yes\" or input3== \"Yes\":\n",
    "            friend_horoscope = zodiac_horoscope(friend_sign)\n",
    "            #If yes, prints out friend's horoscope.\n",
    "            print (\"This month\", friend_horoscope)\n",
    "        else:\n",
    "            #If no, asks if they want to test compatibility instead.\n",
    "            input4 = input(\"Would you like to test your and your friend's zodiac comptability? \")\n",
    "            if input4 == \"yes\" or input4 == \"Yes\":\n",
    "                compatibility = zodiac_compatibility(user_sign, friend_sign)\n",
    "                #Uses compatiblity function to return a message about friendship compatibility.\n",
    "                print(compatibility)\n",
    "    else:\n",
    "        #Option to exit the zodiac wizard.\n",
    "        input(\"Type 'bye' to exit the zodiac wizard.\")\n",
    "        print(\"Thanks for using the zodiac wizard! Goodbye!\")\n"
   ]
  },
  {
   "cell_type": "code",
   "execution_count": null,
   "metadata": {},
   "outputs": [],
   "source": []
  }
 ],
 "metadata": {
  "kernelspec": {
   "display_name": "Python 3",
   "language": "python",
   "name": "python3"
  },
  "language_info": {
   "codemirror_mode": {
    "name": "ipython",
    "version": 3
   },
   "file_extension": ".py",
   "mimetype": "text/x-python",
   "name": "python",
   "nbconvert_exporter": "python",
   "pygments_lexer": "ipython3",
   "version": "3.7.0"
  }
 },
 "nbformat": 4,
 "nbformat_minor": 2
}
